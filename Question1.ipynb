{
 "cells": [
  {
   "cell_type": "markdown",
   "metadata": {},
   "source": [
    "- Do Rooms Get Booked More Frequently on the Weekends? In other words, are there fewer available rooms on the weekends?\n",
    "- Do Rooms Get with a View Get Booked More Frequently on Weekends?"
   ]
  },
  {
   "cell_type": "markdown",
   "metadata": {},
   "source": []
  },
  {
   "cell_type": "code",
   "execution_count": 1,
   "metadata": {},
   "outputs": [],
   "source": [
    "import pandas as pd\n",
    "import matplotlib.pyplot as plt\n",
    "import seaborn as sns\n",
    "%matplotlib inline\n",
    "\n",
    "FilePathRoot = \"C:\\\\Users\\\\USBennetDa2\\\\OneDrive - NESTLE\\\\Udacity Data Science Nanodegree\\\\Project 1\""
   ]
  },
  {
   "cell_type": "code",
   "execution_count": 80,
   "metadata": {},
   "outputs": [
    {
     "data": {
      "text/html": [
       "<div>\n",
       "<style scoped>\n",
       "    .dataframe tbody tr th:only-of-type {\n",
       "        vertical-align: middle;\n",
       "    }\n",
       "\n",
       "    .dataframe tbody tr th {\n",
       "        vertical-align: top;\n",
       "    }\n",
       "\n",
       "    .dataframe thead th {\n",
       "        text-align: right;\n",
       "    }\n",
       "</style>\n",
       "<table border=\"1\" class=\"dataframe\">\n",
       "  <thead>\n",
       "    <tr style=\"text-align: right;\">\n",
       "      <th></th>\n",
       "      <th>listing_id</th>\n",
       "      <th>date</th>\n",
       "      <th>available</th>\n",
       "      <th>price</th>\n",
       "      <th>WeekDay</th>\n",
       "    </tr>\n",
       "  </thead>\n",
       "  <tbody>\n",
       "    <tr>\n",
       "      <th>0</th>\n",
       "      <td>241032</td>\n",
       "      <td>2016-01-04</td>\n",
       "      <td>1</td>\n",
       "      <td>85.0</td>\n",
       "      <td>Monday</td>\n",
       "    </tr>\n",
       "    <tr>\n",
       "      <th>1</th>\n",
       "      <td>241032</td>\n",
       "      <td>2016-01-05</td>\n",
       "      <td>1</td>\n",
       "      <td>85.0</td>\n",
       "      <td>Tuesday</td>\n",
       "    </tr>\n",
       "    <tr>\n",
       "      <th>2</th>\n",
       "      <td>241032</td>\n",
       "      <td>2016-01-06</td>\n",
       "      <td>0</td>\n",
       "      <td>NaN</td>\n",
       "      <td>Wednesday</td>\n",
       "    </tr>\n",
       "    <tr>\n",
       "      <th>3</th>\n",
       "      <td>241032</td>\n",
       "      <td>2016-01-07</td>\n",
       "      <td>0</td>\n",
       "      <td>NaN</td>\n",
       "      <td>Thursday</td>\n",
       "    </tr>\n",
       "    <tr>\n",
       "      <th>4</th>\n",
       "      <td>241032</td>\n",
       "      <td>2016-01-08</td>\n",
       "      <td>0</td>\n",
       "      <td>NaN</td>\n",
       "      <td>Friday</td>\n",
       "    </tr>\n",
       "    <tr>\n",
       "      <th>5</th>\n",
       "      <td>241032</td>\n",
       "      <td>2016-01-09</td>\n",
       "      <td>0</td>\n",
       "      <td>NaN</td>\n",
       "      <td>Saturday</td>\n",
       "    </tr>\n",
       "    <tr>\n",
       "      <th>6</th>\n",
       "      <td>241032</td>\n",
       "      <td>2016-01-10</td>\n",
       "      <td>0</td>\n",
       "      <td>NaN</td>\n",
       "      <td>Sunday</td>\n",
       "    </tr>\n",
       "  </tbody>\n",
       "</table>\n",
       "</div>"
      ],
      "text/plain": [
       "   listing_id       date  available  price    WeekDay\n",
       "0      241032 2016-01-04          1   85.0     Monday\n",
       "1      241032 2016-01-05          1   85.0    Tuesday\n",
       "2      241032 2016-01-06          0    NaN  Wednesday\n",
       "3      241032 2016-01-07          0    NaN   Thursday\n",
       "4      241032 2016-01-08          0    NaN     Friday\n",
       "5      241032 2016-01-09          0    NaN   Saturday\n",
       "6      241032 2016-01-10          0    NaN     Sunday"
      ]
     },
     "execution_count": 80,
     "metadata": {},
     "output_type": "execute_result"
    }
   ],
   "source": [
    "CalendarCleaned = pd.read_csv(FilePathRoot + \"\\\\CalendarCleaned.csv\")\n",
    "# Convert 'date' column from string to float\n",
    "CalendarCleaned[[\"date\"]] = pd.to_datetime(CalendarCleaned[\"date\"])\n",
    "#Identify if the date was a weekend (Friday [4] or Saturday [5]). A 1 means it's a Fri/Sat, a 0 means it's not.\n",
    "CalendarCleaned[\"WeekDay\"] = CalendarCleaned[\"date\"].dt.day_name()#dayofweek#.isin([4,5]).astype(\"int\")\n",
    "\n",
    "CalendarCleaned.head(7)"
   ]
  },
  {
   "cell_type": "code",
   "execution_count": 114,
   "metadata": {},
   "outputs": [
    {
     "data": {
      "text/html": [
       "<div>\n",
       "<style scoped>\n",
       "    .dataframe tbody tr th:only-of-type {\n",
       "        vertical-align: middle;\n",
       "    }\n",
       "\n",
       "    .dataframe tbody tr th {\n",
       "        vertical-align: top;\n",
       "    }\n",
       "\n",
       "    .dataframe thead th {\n",
       "        text-align: right;\n",
       "    }\n",
       "</style>\n",
       "<table border=\"1\" class=\"dataframe\">\n",
       "  <thead>\n",
       "    <tr style=\"text-align: right;\">\n",
       "      <th></th>\n",
       "      <th>Percentage</th>\n",
       "    </tr>\n",
       "    <tr>\n",
       "      <th>WeekDay</th>\n",
       "      <th></th>\n",
       "    </tr>\n",
       "  </thead>\n",
       "  <tbody>\n",
       "    <tr>\n",
       "      <th>Monday</th>\n",
       "      <td>0.671101</td>\n",
       "    </tr>\n",
       "    <tr>\n",
       "      <th>Tuesday</th>\n",
       "      <td>0.671954</td>\n",
       "    </tr>\n",
       "    <tr>\n",
       "      <th>Wednesday</th>\n",
       "      <td>0.671793</td>\n",
       "    </tr>\n",
       "    <tr>\n",
       "      <th>Thursday</th>\n",
       "      <td>0.669743</td>\n",
       "    </tr>\n",
       "    <tr>\n",
       "      <th>Friday</th>\n",
       "      <td>0.668911</td>\n",
       "    </tr>\n",
       "    <tr>\n",
       "      <th>Saturday</th>\n",
       "      <td>0.667758</td>\n",
       "    </tr>\n",
       "    <tr>\n",
       "      <th>Sunday</th>\n",
       "      <td>0.673001</td>\n",
       "    </tr>\n",
       "  </tbody>\n",
       "</table>\n",
       "</div>"
      ],
      "text/plain": [
       "           Percentage\n",
       "WeekDay              \n",
       "Monday       0.671101\n",
       "Tuesday      0.671954\n",
       "Wednesday    0.671793\n",
       "Thursday     0.669743\n",
       "Friday       0.668911\n",
       "Saturday     0.667758\n",
       "Sunday       0.673001"
      ]
     },
     "execution_count": 114,
     "metadata": {},
     "output_type": "execute_result"
    }
   ],
   "source": [
    "#CalendarCleaned.nunique()\n",
    "\n",
    "grouped1 = CalendarCleaned.drop([\"date\", \"price\"], axis = 1).groupby([\"available\", \"WeekDay\"]).count()\n",
    "grouped2 = CalendarCleaned.drop([\"date\", \"price\", \"available\"], axis = 1).groupby([\"WeekDay\"]).count()\n",
    "#print(grouped1)\n",
    "#print(grouped2)\n",
    "\n",
    " #Solution on joining multi index and single index found here: https://stackoverflow.com/questions/50477220/join-on-multiindex-with-different-number-of-levels-in-pandas\n",
    "df = grouped1.merge(grouped2, left_on = grouped1.index.get_level_values('WeekDay').values, right_index=True, suffixes = ('_PerAvailable', '_Total')).query(\"available == 1\").droplevel(0)\n",
    "df[\"Percentage\"] = df[\"listing_id_PerAvailable\"]/df[\"listing_id_Total\"]\n",
    "df.drop(labels = [\"key_0\", \"listing_id_PerAvailable\", \"listing_id_Total\"], axis = 1, inplace = True)\n",
    "df = df.reindex([\"Monday\", \"Tuesday\", \"Wednesday\", \"Thursday\", \"Friday\", \"Saturday\", \"Sunday\"])#)#, ) #[\"Monday\", \"Tuesday\", \"Wednesday\", \"Thursday\", \"Friday\", \"Saturday\", \"Sunday\"]\n",
    "df"
   ]
  },
  {
   "cell_type": "markdown",
   "metadata": {},
   "source": [
    "Calculate the percentage of weekend days that are booked (0%, 50%, 100%) and the percentage of week days that are booked (0%, 20%, 40%, 60%, 80%, 100%)\n",
    "\n",
    "Listing A:\n",
    "Week 1: Booked Thursday, Friday, Saturday one week.\n",
    "Week 2: Booked Wednesday, Thursday, Friday another week.\n",
    "\n",
    "Week 1 Weekday percentage: 1/5 = 20%.\n",
    "Week 1 Weekend percentage: 2/2 = 100%\n",
    "Week 2 Weekday percentgae: 2/5 = 40%\n",
    "Week 2 Weekend percentage: 1/2 = 50%\n",
    "\n",
    "On average, this listing is booked 3/10 or 30% on the weekdays.\n",
    "On average, this listing is booked 3/4 or 75% on the weekends.\n",
    "\n",
    "We want a bar chart that shows the average percentage of bookings on the Y axis. On the X axis we want 7 columns, 1 for each day of the week that shows availability percentage.\n"
   ]
  },
  {
   "cell_type": "code",
   "execution_count": 131,
   "metadata": {},
   "outputs": [
    {
     "data": {
      "image/png": "[encoded data removed]",
      "text/plain": [
       "<Figure size 432x288 with 1 Axes>"
      ]
     },
     "metadata": {
      "needs_background": "light"
     },
     "output_type": "display_data"
    }
   ],
   "source": [
    "#(CalendarCleaned.WeekEnd.value_counts()/CalendarCleaned.shape[0]).plot(kind = \"bar\")\n",
    "#print(CalendarCleaned.WeekEnd.value_counts())\n",
    "#df.plot( kind = \"bar\");\n",
    "plt.bar(df.index, df[\"Percentage\"]);\n",
    "plt.xticks(ticks=range(len(df)), labels=df.index, rotation=90);\n",
    "plt.ylabel('Percentage of Nights That Were Booked');\n",
    "plt.xlabel('Day of Week');\n",
    "plt.title(\"Do Weekends Get Booked More on AirBnB in Seattle?\");\n",
    "#df.ylabel('WeekDay')"
   ]
  },
  {
   "cell_type": "code",
   "execution_count": null,
   "metadata": {},
   "outputs": [],
   "source": []
  }
 ],
 "metadata": {
  "interpreter": {
   "hash": "97ae724bfa85b9b34df7982b8bb8c7216f435b92902d749e4263f71162bea840"
  },
  "kernelspec": {
   "display_name": "Python 3.7.3 ('base')",
   "language": "python",
   "name": "python3"
  },
  "language_info": {
   "codemirror_mode": {
    "name": "ipython",
    "version": 3
   },
   "file_extension": ".py",
   "mimetype": "text/x-python",
   "name": "python",
   "nbconvert_exporter": "python",
   "pygments_lexer": "ipython3",
   "version": "3.7.3"
  },
  "orig_nbformat": 4
 },
 "nbformat": 4,
 "nbformat_minor": 2
}
