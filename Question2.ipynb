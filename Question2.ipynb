{
 "cells": [
  {
   "cell_type": "markdown",
   "metadata": {},
   "source": [
    "# Do Rooms that Mention the Word 'View' in their Description Charge More?"
   ]
  },
  {
   "cell_type": "markdown",
   "metadata": {},
   "source": [
    "### Import Necessary Libraries"
   ]
  },
  {
   "cell_type": "code",
   "execution_count": 1,
   "metadata": {},
   "outputs": [],
   "source": [
    "import pandas as pd\n",
    "import matplotlib.pyplot as plt\n",
    "%matplotlib inline\n",
    "\n",
    "FilePathRoot = \"C:\\\\Users\\\\USBennetDa2\\\\OneDrive - NESTLE\\\\Udacity Data Science Nanodegree\\\\Project 1\""
   ]
  },
  {
   "cell_type": "markdown",
   "metadata": {},
   "source": [
    "### Bring in the Cleaned Files"
   ]
  },
  {
   "cell_type": "code",
   "execution_count": 2,
   "metadata": {},
   "outputs": [],
   "source": [
    "# Listing Data for Number of Bedrooms and Description\n",
    "ListingsCleaned = pd.read_csv(FilePathRoot + \"\\\\ListingsCleaned.csv\")\n",
    "\n",
    "#Calendar Data for the Price\n",
    "CalendarCleaned = pd.read_csv(FilePathRoot + \"\\\\CalendarCleaned.csv\")\n",
    "CalendarCleaned[\"id\"] = CalendarCleaned[\"listing_id\"]"
   ]
  },
  {
   "cell_type": "markdown",
   "metadata": {},
   "source": [
    "### Analysis of Data"
   ]
  },
  {
   "cell_type": "code",
   "execution_count": 3,
   "metadata": {},
   "outputs": [
    {
     "name": "stderr",
     "output_type": "stream",
     "text": [
      "C:\\Anaconda3\\lib\\site-packages\\ipykernel_launcher.py:10: SettingWithCopyWarning: \n",
      "A value is trying to be set on a copy of a slice from a DataFrame\n",
      "\n",
      "See the caveats in the documentation: http://pandas.pydata.org/pandas-docs/stable/indexing.html#indexing-view-versus-copy\n",
      "  # Remove the CWD from sys.path while we load stuff.\n"
     ]
    },
    {
     "data": {
      "text/html": [
       "<div>\n",
       "<style scoped>\n",
       "    .dataframe tbody tr th:only-of-type {\n",
       "        vertical-align: middle;\n",
       "    }\n",
       "\n",
       "    .dataframe tbody tr th {\n",
       "        vertical-align: top;\n",
       "    }\n",
       "\n",
       "    .dataframe thead th {\n",
       "        text-align: right;\n",
       "    }\n",
       "</style>\n",
       "<table border=\"1\" class=\"dataframe\">\n",
       "  <thead>\n",
       "    <tr style=\"text-align: right;\">\n",
       "      <th></th>\n",
       "      <th>id</th>\n",
       "      <th>description</th>\n",
       "      <th>bedrooms</th>\n",
       "      <th>price</th>\n",
       "      <th>View</th>\n",
       "    </tr>\n",
       "  </thead>\n",
       "  <tbody>\n",
       "    <tr>\n",
       "      <th>0</th>\n",
       "      <td>241032</td>\n",
       "      <td>Make your self at home in this charming one-be...</td>\n",
       "      <td>1.0</td>\n",
       "      <td>85.000000</td>\n",
       "      <td>False</td>\n",
       "    </tr>\n",
       "    <tr>\n",
       "      <th>1</th>\n",
       "      <td>953595</td>\n",
       "      <td>Chemically sensitive? We've removed the irrita...</td>\n",
       "      <td>1.0</td>\n",
       "      <td>170.931271</td>\n",
       "      <td>False</td>\n",
       "    </tr>\n",
       "    <tr>\n",
       "      <th>2</th>\n",
       "      <td>3308979</td>\n",
       "      <td>New modern house built in 2013.  Spectacular s...</td>\n",
       "      <td>5.0</td>\n",
       "      <td>1301.818182</td>\n",
       "      <td>True</td>\n",
       "    </tr>\n",
       "    <tr>\n",
       "      <th>3</th>\n",
       "      <td>7421966</td>\n",
       "      <td>A charming apartment that sits atop Queen Anne...</td>\n",
       "      <td>0.0</td>\n",
       "      <td>100.000000</td>\n",
       "      <td>False</td>\n",
       "    </tr>\n",
       "    <tr>\n",
       "      <th>4</th>\n",
       "      <td>278830</td>\n",
       "      <td>Cozy family craftman house in beautiful neighb...</td>\n",
       "      <td>3.0</td>\n",
       "      <td>462.739726</td>\n",
       "      <td>True</td>\n",
       "    </tr>\n",
       "  </tbody>\n",
       "</table>\n",
       "</div>"
      ],
      "text/plain": [
       "        id                                        description  bedrooms  \\\n",
       "0   241032  Make your self at home in this charming one-be...       1.0   \n",
       "1   953595  Chemically sensitive? We've removed the irrita...       1.0   \n",
       "2  3308979  New modern house built in 2013.  Spectacular s...       5.0   \n",
       "3  7421966  A charming apartment that sits atop Queen Anne...       0.0   \n",
       "4   278830  Cozy family craftman house in beautiful neighb...       3.0   \n",
       "\n",
       "         price   View  \n",
       "0    85.000000  False  \n",
       "1   170.931271  False  \n",
       "2  1301.818182   True  \n",
       "3   100.000000  False  \n",
       "4   462.739726   True  "
      ]
     },
     "execution_count": 3,
     "metadata": {},
     "output_type": "execute_result"
    }
   ],
   "source": [
    "# What is the average price per night for each rental?\n",
    "ListingPrice = CalendarCleaned.groupby(\"id\").mean().drop([\"listing_id\", \"available\"], axis = 1)\n",
    "#print(ListingPrice.shape)\n",
    "ListingPrice.dropna(subset = [\"price\"], inplace = True) #There are 95 out of 3818 listings without a price. This is a small enough number that I am comfortable dropping them.\n",
    "#print(ListingPrice.shape)\n",
    "\n",
    "# Simplify the dataframe to only include the relevant columns\n",
    "ListingView = ListingsCleaned[[\"id\", \"description\", \"bedrooms\"]] \n",
    "#print(ListingView.shape)\n",
    "ListingView.dropna(subset = [\"bedrooms\"], inplace = True) #There are 5 out of 3818 listings without number of bedrooms. This is a small enough number that I am comfortable dropping them.\n",
    "#print(ListingView.shape)\n",
    "\n",
    "# Join the dataframes together on the IDs.\n",
    "joined = pd.merge(ListingView, ListingPrice, on = \"id\")\n",
    "\n",
    "# Check if the description mentions the word \"view\" regardless of case.\n",
    "joined[\"View\"] = joined[\"description\"].str.contains(\"view\", case = False)\n",
    "joined.head()\n"
   ]
  },
  {
   "cell_type": "code",
   "execution_count": 4,
   "metadata": {},
   "outputs": [
    {
     "name": "stdout",
     "output_type": "stream",
     "text": [
      "                    price\n",
      "bedrooms View            \n",
      "0.0      True  108.626955\n",
      "1.0      True  119.376984\n",
      "2.0      True  215.558452\n",
      "3.0      True  320.969721\n",
      "4.0      True  328.402273\n",
      "5.0      True  558.382744\n",
      "6.0      True  652.479339\n",
      "7.0      True  557.754839\n"
     ]
    }
   ],
   "source": [
    "# What is the average price with and without a view for options with the same number of rooms?\n",
    "# These values will be used on the graph to help answer our question.\n",
    "meanprices = joined.drop([\"id\", \"description\"], axis = 1).groupby([\"bedrooms\", \"View\"]).mean()\n",
    "\n",
    "# Average price with a view\n",
    "MeanPricesView = meanprices.query(\"View == True\"); print(MeanPricesView)\n",
    "# Average price without a view\n",
    "MeanPricesNoView = meanprices.query(\"View == False\")"
   ]
  },
  {
   "cell_type": "markdown",
   "metadata": {},
   "source": [
    "### Visuals"
   ]
  },
  {
   "cell_type": "code",
   "execution_count": 6,
   "metadata": {},
   "outputs": [
    {
     "data": {
      "image/png": "[encoded data removed]",
      "text/plain": [
       "<Figure size 432x288 with 1 Axes>"
      ]
     },
     "metadata": {
      "needs_background": "light"
     },
     "output_type": "display_data"
    }
   ],
   "source": [
    "WithView = joined.query(\"View == True\")\n",
    "NoView = joined.query(\"View == False\")\n",
    "\n",
    "# Plot the observations without a view with a blue circle.\n",
    "plt.scatter(NoView[\"bedrooms\"], NoView[\"price\"], marker = \"o\");\n",
    "# Plot the observations with a view with an orange triangle.\n",
    "plt.scatter(WithView[\"bedrooms\"], WithView[\"price\"], marker = \"^\");\n",
    "# Add in lines showing the average nightly price according to the number of bedrooms and whether the AirBnB has the word 'View' listed in the description.\n",
    "plt.plot(MeanPricesNoView.index.get_level_values('bedrooms').values, MeanPricesNoView[\"price\"])\n",
    "plt.plot(MeanPricesView.index.get_level_values('bedrooms').values, MeanPricesView[\"price\"])\n",
    "\n",
    "#Add in additional characteristics of the graph, such as the legend and title.\n",
    "plt.legend([\"Without View\", \"With View\"])\n",
    "plt.ylabel('Average Price Per Night ($)');\n",
    "plt.xlabel('Number of Bedrooms');\n",
    "plt.title(\"Do Comparable Airbnbs with a View Charge More?\");"
   ]
  },
  {
   "cell_type": "code",
   "execution_count": null,
   "metadata": {},
   "outputs": [],
   "source": []
  }
 ],
 "metadata": {
  "interpreter": {
   "hash": "97ae724bfa85b9b34df7982b8bb8c7216f435b92902d749e4263f71162bea840"
  },
  "kernelspec": {
   "display_name": "Python 3.7.3 ('base')",
   "language": "python",
   "name": "python3"
  },
  "language_info": {
   "codemirror_mode": {
    "name": "ipython",
    "version": 3
   },
   "file_extension": ".py",
   "mimetype": "text/x-python",
   "name": "python",
   "nbconvert_exporter": "python",
   "pygments_lexer": "ipython3",
   "version": "3.7.3"
  },
  "orig_nbformat": 4
 },
 "nbformat": 4,
 "nbformat_minor": 2
}
