{
 "cells": [
  {
   "cell_type": "markdown",
   "metadata": {},
   "source": [
    "Do Rooms that Mention the Word 'View' in their Description Cost more?"
   ]
  },
  {
   "cell_type": "code",
   "execution_count": 1,
   "metadata": {},
   "outputs": [],
   "source": [
    "import pandas as pd\n",
    "import matplotlib.pyplot as plt\n",
    "import seaborn as sns\n",
    "%matplotlib inline\n",
    "\n",
    "FilePathRoot = \"C:\\\\Users\\\\USBennetDa2\\\\OneDrive - NESTLE\\\\Udacity Data Science Nanodegree\\\\Project 1\""
   ]
  },
  {
   "cell_type": "code",
   "execution_count": 48,
   "metadata": {},
   "outputs": [
    {
     "data": {
      "text/plain": [
       "Index(['id', 'listing_url', 'name', 'summary', 'space', 'description',\n",
       "       'neighborhood_overview', 'notes', 'transit', 'thumbnail_url',\n",
       "       'medium_url', 'picture_url', 'xl_picture_url', 'host_id', 'host_url',\n",
       "       'host_name', 'host_since', 'host_location', 'host_about',\n",
       "       'host_response_time', 'host_response_rate', 'host_acceptance_rate',\n",
       "       'host_is_superhost', 'host_thumbnail_url', 'host_picture_url',\n",
       "       'host_neighbourhood', 'host_listings_count',\n",
       "       'host_total_listings_count', 'host_verifications',\n",
       "       'host_has_profile_pic', 'host_identity_verified', 'street',\n",
       "       'neighbourhood', 'neighbourhood_cleansed',\n",
       "       'neighbourhood_group_cleansed', 'city', 'state', 'zipcode', 'market',\n",
       "       'smart_location', 'country_code', 'country', 'latitude', 'longitude',\n",
       "       'is_location_exact', 'property_type', 'room_type', 'accommodates',\n",
       "       'bathrooms', 'bedrooms', 'beds', 'bed_type', 'amenities', 'square_feet',\n",
       "       'price', 'weekly_price', 'monthly_price', 'security_deposit',\n",
       "       'cleaning_fee', 'guests_included', 'extra_people', 'minimum_nights',\n",
       "       'maximum_nights', 'calendar_updated', 'has_availability',\n",
       "       'availability_30', 'availability_60', 'availability_90',\n",
       "       'availability_365', 'calendar_last_scraped', 'number_of_reviews',\n",
       "       'first_review', 'last_review', 'review_scores_rating',\n",
       "       'review_scores_accuracy', 'review_scores_cleanliness',\n",
       "       'review_scores_checkin', 'review_scores_communication',\n",
       "       'review_scores_location', 'review_scores_value', 'requires_license',\n",
       "       'license', 'jurisdiction_names', 'instant_bookable',\n",
       "       'cancellation_policy', 'require_guest_profile_picture',\n",
       "       'require_guest_phone_verification', 'calculated_host_listings_count',\n",
       "       'reviews_per_month'],\n",
       "      dtype='object')"
      ]
     },
     "execution_count": 48,
     "metadata": {},
     "output_type": "execute_result"
    }
   ],
   "source": [
    "ListingsCleaned = pd.read_csv(FilePathRoot + \"\\\\ListingsCleaned.csv\")\n",
    "CalendarCleaned = pd.read_csv(FilePathRoot + \"\\\\CalendarCleaned.csv\")\n",
    "CalendarCleaned[\"id\"] = CalendarCleaned[\"listing_id\"]\n",
    "\n",
    "ListingsCleaned.columns"
   ]
  },
  {
   "cell_type": "code",
   "execution_count": 84,
   "metadata": {},
   "outputs": [
    {
     "name": "stderr",
     "output_type": "stream",
     "text": [
      "C:\\Anaconda3\\lib\\site-packages\\ipykernel_launcher.py:9: SettingWithCopyWarning: \n",
      "A value is trying to be set on a copy of a slice from a DataFrame\n",
      "\n",
      "See the caveats in the documentation: http://pandas.pydata.org/pandas-docs/stable/indexing.html#indexing-view-versus-copy\n",
      "  if __name__ == '__main__':\n"
     ]
    },
    {
     "data": {
      "text/html": [
       "<div>\n",
       "<style scoped>\n",
       "    .dataframe tbody tr th:only-of-type {\n",
       "        vertical-align: middle;\n",
       "    }\n",
       "\n",
       "    .dataframe tbody tr th {\n",
       "        vertical-align: top;\n",
       "    }\n",
       "\n",
       "    .dataframe thead th {\n",
       "        text-align: right;\n",
       "    }\n",
       "</style>\n",
       "<table border=\"1\" class=\"dataframe\">\n",
       "  <thead>\n",
       "    <tr style=\"text-align: right;\">\n",
       "      <th></th>\n",
       "      <th>id</th>\n",
       "      <th>description</th>\n",
       "      <th>bedrooms</th>\n",
       "      <th>price</th>\n",
       "      <th>View</th>\n",
       "    </tr>\n",
       "  </thead>\n",
       "  <tbody>\n",
       "    <tr>\n",
       "      <th>0</th>\n",
       "      <td>241032</td>\n",
       "      <td>Make your self at home in this charming one-be...</td>\n",
       "      <td>1.0</td>\n",
       "      <td>85.000000</td>\n",
       "      <td>False</td>\n",
       "    </tr>\n",
       "    <tr>\n",
       "      <th>1</th>\n",
       "      <td>953595</td>\n",
       "      <td>Chemically sensitive? We've removed the irrita...</td>\n",
       "      <td>1.0</td>\n",
       "      <td>170.931271</td>\n",
       "      <td>False</td>\n",
       "    </tr>\n",
       "    <tr>\n",
       "      <th>2</th>\n",
       "      <td>3308979</td>\n",
       "      <td>New modern house built in 2013.  Spectacular s...</td>\n",
       "      <td>5.0</td>\n",
       "      <td>1301.818182</td>\n",
       "      <td>True</td>\n",
       "    </tr>\n",
       "    <tr>\n",
       "      <th>3</th>\n",
       "      <td>7421966</td>\n",
       "      <td>A charming apartment that sits atop Queen Anne...</td>\n",
       "      <td>0.0</td>\n",
       "      <td>100.000000</td>\n",
       "      <td>False</td>\n",
       "    </tr>\n",
       "    <tr>\n",
       "      <th>4</th>\n",
       "      <td>278830</td>\n",
       "      <td>Cozy family craftman house in beautiful neighb...</td>\n",
       "      <td>3.0</td>\n",
       "      <td>462.739726</td>\n",
       "      <td>True</td>\n",
       "    </tr>\n",
       "  </tbody>\n",
       "</table>\n",
       "</div>"
      ],
      "text/plain": [
       "        id                                        description  bedrooms  \\\n",
       "0   241032  Make your self at home in this charming one-be...       1.0   \n",
       "1   953595  Chemically sensitive? We've removed the irrita...       1.0   \n",
       "2  3308979  New modern house built in 2013.  Spectacular s...       5.0   \n",
       "3  7421966  A charming apartment that sits atop Queen Anne...       0.0   \n",
       "4   278830  Cozy family craftman house in beautiful neighb...       3.0   \n",
       "\n",
       "         price   View  \n",
       "0    85.000000  False  \n",
       "1   170.931271  False  \n",
       "2  1301.818182   True  \n",
       "3   100.000000  False  \n",
       "4   462.739726   True  "
      ]
     },
     "execution_count": 84,
     "metadata": {},
     "output_type": "execute_result"
    }
   ],
   "source": [
    "# What is the average price per night for each rental?\n",
    "ListingPrice = CalendarCleaned.groupby(\"id\").mean().drop([\"listing_id\", \"available\"], axis = 1)\n",
    "#print(ListingPrice.shape)\n",
    "ListingPrice.dropna(subset = [\"price\"], inplace = True) #There are 95 out of 3818 listings without a price.\n",
    "#print(ListingPrice.shape)\n",
    "# Simplify the dataframe to only include the relevant columns\n",
    "ListingView = ListingsCleaned[[\"id\", \"description\", \"bedrooms\"]] #There are 5 out of 3818 listings without number of bedrooms.\n",
    "#print(ListingView.shape)\n",
    "ListingView.dropna(subset = [\"bedrooms\"], inplace = True)\n",
    "#print(ListingView.shape)\n",
    "\n",
    "\n",
    "# Check for NULL values within ListingsView and ListingPrice\n",
    "#print(ListingView.isna().sum()) #square_feet has about 100 NULL values\n",
    "#print(ListingPrice.isna().sum()) # price has about 100 NULL values.\n",
    "# Because the null values represent less than 200 out of ~3,800 (~5%) we can drop them.\n",
    "\n",
    "# Join the dataframes together\n",
    "joined = pd.merge(ListingView, ListingPrice, on = \"id\")\n",
    "# Check if the description mentions the word \"view\" regardless of case.\n",
    "joined[\"View\"] = joined[\"description\"].str.contains(\"view\", case = False)\n",
    "joined.head()\n"
   ]
  },
  {
   "cell_type": "code",
   "execution_count": 106,
   "metadata": {},
   "outputs": [
    {
     "name": "stdout",
     "output_type": "stream",
     "text": [
      "                    price\n",
      "bedrooms View            \n",
      "0.0      True  108.626955\n",
      "1.0      True  119.376984\n",
      "2.0      True  215.558452\n",
      "3.0      True  320.969721\n",
      "4.0      True  328.402273\n",
      "5.0      True  558.382744\n",
      "6.0      True  652.479339\n",
      "7.0      True  557.754839\n"
     ]
    }
   ],
   "source": [
    "#What is the average price with an without a view for options with the same number of rooms?\n",
    "meanprices = joined.drop([\"id\", \"description\"], axis = 1).groupby([\"bedrooms\", \"View\"]).mean()\n",
    "#meanprices[\"testColumn\"] = meanprices.index(0)\n",
    "MeanPricesView = meanprices.query(\"View == True\"); print(MeanPricesView)\n",
    "MeanPricesNoView = meanprices.query(\"View == False\")"
   ]
  },
  {
   "cell_type": "code",
   "execution_count": 109,
   "metadata": {},
   "outputs": [
    {
     "data": {
      "image/png": "[encoded data removed]",
      "text/plain": [
       "<Figure size 432x288 with 1 Axes>"
      ]
     },
     "metadata": {
      "needs_background": "light"
     },
     "output_type": "display_data"
    }
   ],
   "source": [
    "WithView = joined.query(\"View == True\")\n",
    "NoView = joined.query(\"View == False\")\n",
    "plt.scatter(NoView[\"bedrooms\"], NoView[\"price\"], marker = \"o\");\n",
    "plt.scatter(WithView[\"bedrooms\"], WithView[\"price\"], marker = \"^\");\n",
    "\n",
    "plt.plot(MeanPricesNoView.index.get_level_values('bedrooms').values, MeanPricesNoView[\"price\"])\n",
    "plt.plot(MeanPricesView.index.get_level_values('bedrooms').values, MeanPricesView[\"price\"])\n",
    "\n",
    "plt.legend([\"Without View\", \"With View\"])\n",
    "plt.ylabel('Average Price Per Night ($)');\n",
    "plt.xlabel('Number of Bedrooms');\n",
    "plt.title(\"Do Comparable AirBnB's with a View Charge More?\");"
   ]
  },
  {
   "cell_type": "code",
   "execution_count": 55,
   "metadata": {},
   "outputs": [
    {
     "name": "stdout",
     "output_type": "stream",
     "text": [
      "id                0\n",
      "description       0\n",
      "square_feet    3721\n",
      "price            95\n",
      "View              0\n",
      "dtype: int64\n",
      "(3818, 5)\n"
     ]
    }
   ],
   "source": [
    "print(joined.isna().sum())\n",
    "print(joined.shape)"
   ]
  },
  {
   "cell_type": "code",
   "execution_count": null,
   "metadata": {},
   "outputs": [],
   "source": []
  }
 ],
 "metadata": {
  "interpreter": {
   "hash": "97ae724bfa85b9b34df7982b8bb8c7216f435b92902d749e4263f71162bea840"
  },
  "kernelspec": {
   "display_name": "Python 3.7.3 ('base')",
   "language": "python",
   "name": "python3"
  },
  "language_info": {
   "codemirror_mode": {
    "name": "ipython",
    "version": 3
   },
   "file_extension": ".py",
   "mimetype": "text/x-python",
   "name": "python",
   "nbconvert_exporter": "python",
   "pygments_lexer": "ipython3",
   "version": "3.7.3"
  },
  "orig_nbformat": 4
 },
 "nbformat": 4,
 "nbformat_minor": 2
}
